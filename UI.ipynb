{
 "cells": [
  {
   "cell_type": "code",
   "execution_count": 2,
   "metadata": {},
   "outputs": [],
   "source": [
    "import tkinter as tk\n",
    "from PIL import ImageTk,Image,ImageDraw\n",
    "import numpy as np\n",
    "import cv2\n",
    "import os\n",
    "import joblib\n",
    "from xgboost import XGBClassifier\n",
    "from sklearn.preprocessing import StandardScaler"
   ]
  },
  {
   "cell_type": "code",
   "execution_count": 3,
   "metadata": {},
   "outputs": [],
   "source": [
    "model = joblib.load('E-C-R-M.sav')"
   ]
  },
  {
   "cell_type": "code",
   "execution_count": 4,
   "metadata": {},
   "outputs": [],
   "source": [
    "character_dict = {0:'A',1:'B',2:'C',3:'D',4:'E',5:'F',6:'G',7:'H',8:'I',9:'J',10:'K',11:'L',12:'M',13:'N',14:'O',15:'P',16:'Q',17:'R',18:'S',19:'T',20:'U',21:'V',22:'W',23:'X',24:'Y',25:'Z'}"
   ]
  },
  {
   "cell_type": "code",
   "execution_count": 5,
   "metadata": {},
   "outputs": [],
   "source": [
    "from matplotlib import pyplot as plt\n"
   ]
  },
  {
   "cell_type": "code",
   "execution_count": 6,
   "metadata": {},
   "outputs": [],
   "source": [
    "scaler = joblib.load('scaler.pkl')"
   ]
  },
  {
   "cell_type": "code",
   "execution_count": 8,
   "metadata": {},
   "outputs": [
    {
     "data": {
      "image/png": "[encoded data removed]",
      "text/plain": [
       "<Figure size 640x480 with 1 Axes>"
      ]
     },
     "metadata": {},
     "output_type": "display_data"
    }
   ],
   "source": [
    "\n",
    "width=500\n",
    "hight=500\n",
    "font_fam = 'Helvetica 20 bold'\n",
    "count=0\n",
    "\n",
    "window = tk.Tk()\n",
    "\n",
    "def event_func(event):\n",
    "    x=event.x\n",
    "    y=event.y\n",
    "\n",
    "    x1=x-20\n",
    "    x2=x+20\n",
    "\n",
    "    y1=y-20\n",
    "    y2=y+20\n",
    "\n",
    "    canvas.create_oval((x1,y1,x2,y2),fill='white')\n",
    "    img_draw.ellipse((x1,y1,x2,y2),fill='white')\n",
    "\n",
    "def save():\n",
    "    global count\n",
    "    img_array=np.array(img)\n",
    "    path=os.path.join('data',str(count)+'.jpg')\n",
    "    cv2.imwrite(path,img_array)\n",
    "    count+=1\n",
    "\n",
    "def clear():\n",
    "    global img,img_draw\n",
    "    canvas.delete('all')\n",
    "    img=Image.new('RGB',(width,hight),(0,0,0))\n",
    "    img_draw=ImageDraw.Draw(img)\n",
    "    label_status.config(text='PREDICTED CHARACTER: NONE')\n",
    "\n",
    "canvas = tk.Canvas(window,width=width,height=hight,background='black')\n",
    "canvas.grid(row=0,column=0,columnspan=4)\n",
    "\n",
    "canvas.bind('<B1-Motion>',event_func)\n",
    "img = Image.new('RGB',(width,hight),(0,0,0))\n",
    "img_draw = ImageDraw.Draw(img)\n",
    "\n",
    "def predict():\n",
    "    img_array = np.array(img)\n",
    "    img_array = cv2.cvtColor(img_array, cv2.COLOR_BGR2GRAY)\n",
    "    #img_array=255-img_array\n",
    "    img_array = cv2.resize(img_array, (25, 25))\n",
    "    plt.imshow(img_array, cmap=\"gray\")\n",
    "    img_array = np.reshape(img_array, (1, 625))\n",
    "\n",
    "    img_array = scaler.transform(img_array)  # Apply the same scaling\n",
    "\n",
    "    result = model.predict(img_array)[0]\n",
    "    label = character_dict[result]\n",
    "\n",
    "    label_status.config(text='PREDICTED CHARACTER: ' + label)\n",
    "   \n",
    "\n",
    "\n",
    "\n",
    "\n",
    "\n",
    "button_save = tk.Button(window,text='SAVE',background='green',foreground='white',font=font_fam, command=save)\n",
    "button_save.grid(row=1,column=0)\n",
    "\n",
    "button_predict = tk.Button(window,text='PREDICT',background='green',foreground='white',font=font_fam,command=predict)\n",
    "button_predict.grid(row=1,column=1)\n",
    "\n",
    "button_clear = tk.Button(window,text='CLEAR',background='green',foreground='white',font=font_fam,command=clear)\n",
    "button_clear.grid(row=1,column=2)\n",
    "\n",
    "button_exit = tk.Button(window,text='EXIT',background='red',foreground='white',font=font_fam,command=window.destroy)\n",
    "button_exit.grid(row=1,column=3)\n",
    "\n",
    "label_status = tk.Label(window,text='Predicted Character: NONE',background='white',font=font_fam)\n",
    "label_status.grid(row=2,column=0,columnspan=4)\n",
    "\n",
    "\n",
    "\n",
    "window.mainloop()"
   ]
  },
  {
   "cell_type": "code",
   "execution_count": null,
   "metadata": {},
   "outputs": [],
   "source": []
  }
 ],
 "metadata": {
  "kernelspec": {
   "display_name": "Python 3",
   "language": "python",
   "name": "python3"
  },
  "language_info": {
   "codemirror_mode": {
    "name": "ipython",
    "version": 3
   },
   "file_extension": ".py",
   "mimetype": "text/x-python",
   "name": "python",
   "nbconvert_exporter": "python",
   "pygments_lexer": "ipython3",
   "version": "3.13.1"
  }
 },
 "nbformat": 4,
 "nbformat_minor": 2
}
